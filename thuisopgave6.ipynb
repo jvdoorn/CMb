{
 "cells": [
  {
   "cell_type": "markdown",
   "metadata": {
    "ExecuteTime": {
     "end_time": "2019-11-03T11:09:32.433911Z",
     "start_time": "2019-11-03T11:09:31.812730Z"
    }
   },
   "source": [
    "# Werkcollege Classical Mechanics b, serie 6 "
   ]
  },
  {
   "cell_type": "code",
   "execution_count": 1,
   "metadata": {
    "ExecuteTime": {
     "end_time": "2019-12-19T15:17:56.908697Z",
     "start_time": "2019-12-19T15:17:56.637954Z"
    }
   },
   "outputs": [],
   "source": [
    "import numpy as np\n",
    "from matplotlib import pyplot as plt\n",
    "from scipy.constants import g\n",
    "%matplotlib inline\n",
    "\n",
    "plt.style.use(['science', 'grid'])"
   ]
  },
  {
   "cell_type": "code",
   "execution_count": 2,
   "metadata": {
    "ExecuteTime": {
     "end_time": "2019-12-19T15:17:57.364068Z",
     "start_time": "2019-12-19T15:17:57.356105Z"
    }
   },
   "outputs": [],
   "source": [
    "# voor de differentiaalvergelijking ydot = f(t, y) (zie vergelijking 9 in de opdracht),\n",
    "# geef de volgende waarde van y voor gegeven y en t,\n",
    "# gebruik makend van de vierde orde Runge-Kutta methode met stapgrootte h\n",
    "def runge_kutta(f, t, y, h):\n",
    "    k1 = f(t, y)\n",
    "    k2 = f(t + h / 2.0, y + h * k1 / 2.0)\n",
    "    k3 = f(t + h / 2.0, y + h * k2 / 2.0)\n",
    "    k4 = f(t + h, y + h * k3)\n",
    "    return y + h * (k1 + 2.0 * k2 + 2.0 * k3 + k4) / 6.0"
   ]
  },
  {
   "cell_type": "code",
   "execution_count": 3,
   "metadata": {
    "ExecuteTime": {
     "end_time": "2019-12-19T15:17:58.899407Z",
     "start_time": "2019-12-19T15:17:58.891957Z"
    }
   },
   "outputs": [],
   "source": [
    "# plot het traject van de knikker en geef op elk punt (x, y) de snelheid weer door de kleur te varieren met een gradient\n",
    "def plot_traject(x, y, snelheid, x_direction=False):\n",
    "    f, ax = plt.subplots()\n",
    "    \n",
    "    # gebruik de volgende gradient: blauw -> geel -> rood\n",
    "    cm = plt.cm.get_cmap('RdYlBu_r')    \n",
    "    col = ax.scatter(x, y, c = snelheid, cmap = cm, lw = 0.0, marker=\".\")\n",
    "\n",
    "    ax.set_xlabel('x (m)')\n",
    "    ax.set_ylabel('y (m)')\n",
    "    \n",
    "    # laat een balk zien die de gradient weergeeft\n",
    "    cbaxes = f.add_axes([0.85, 0.1, 0.03, 0.8])\n",
    "    plt.colorbar(col, cax = cbaxes, label = 'Snelheid (m/s)' if not x_direction else 'Snelheid-x (m/s)')\n",
    "    plt.subplots_adjust(bottom = 0.1, top = 0.9, left = 0.1, right = 0.77)\n",
    "\n",
    "    ax.set_title('Traject van knikker over de baan')\n",
    "    plt.show()"
   ]
  },
  {
   "cell_type": "markdown",
   "metadata": {
    "ExecuteTime": {
     "end_time": "2019-11-03T11:09:32.452272Z",
     "start_time": "2019-11-03T11:09:32.445992Z"
    }
   },
   "source": [
    "# Bewegingsplots\n",
    "* Hoe snel moet het deeltje gaan om van $x=-10$ tot stilstand te komen in de oorsprong?\n",
    "* Hoe snel moet een deeltje vanuit de oorsprong gaan om tot $y=10$ te komen"
   ]
  },
  {
   "cell_type": "code",
   "execution_count": 4,
   "metadata": {
    "ExecuteTime": {
     "end_time": "2019-11-03T11:09:32.452272Z",
     "start_time": "2019-11-03T11:09:32.445992Z"
    }
   },
   "outputs": [
    {
     "data": {
      "image/png": "[encoded data removed]",
      "text/plain": [
       "<Figure size 252x189 with 2 Axes>"
      ]
     },
     "metadata": {
      "needs_background": "light"
     },
     "output_type": "display_data"
    }
   ],
   "source": [
    "f = lambda t, vec: np.array([vec[1],-(18 * vec[0] ** 3 * vec[1] ** 2 + 3 * g * vec[0] ** 2) / (1 + 9 * vec[0] ** 4)])\n",
    "\n",
    "h = 0.0001\n",
    "dt = h\n",
    "\n",
    "steps = 200000\n",
    "\n",
    "x_initial = -10.\n",
    "w_initial = 0.467\n",
    "\n",
    "trace = np.zeros((steps, 3))\n",
    "trace[0] = [\n",
    "    x_initial,\n",
    "    w_initial,\n",
    "    0\n",
    "] # x, w, t\n",
    "for i in range(1, steps):\n",
    "    trace[i][:2] = runge_kutta(f, trace[i-1][2], trace[i-1][:2], h)\n",
    "    trace[i][2] = trace[i-1][2] + dt\n",
    "    # if trace[i][1] < 0: break\n",
    "\n",
    "plot_traject(trace[:, 0], trace[:, 0] ** 3, np.sqrt(trace[:, 1] ** 2 + (3 * trace[:, 0] ** 2 * trace[:,1]) ** 2))"
   ]
  },
  {
   "cell_type": "code",
   "execution_count": 5,
   "metadata": {
    "ExecuteTime": {
     "end_time": "2019-11-03T11:09:32.452272Z",
     "start_time": "2019-11-03T11:09:32.445992Z"
    }
   },
   "outputs": [
    {
     "data": {
      "image/png": "[encoded data removed]",
      "text/plain": [
       "<Figure size 252x189 with 2 Axes>"
      ]
     },
     "metadata": {
      "needs_background": "light"
     },
     "output_type": "display_data"
    }
   ],
   "source": [
    "x_initial = 0.\n",
    "w_initial = 145.\n",
    "\n",
    "trace_2 = np.zeros((steps, 3))\n",
    "trace_2[0] = [\n",
    "    x_initial,\n",
    "    w_initial,\n",
    "    0\n",
    "] # x, w, t\n",
    "for i in range(1, steps):\n",
    "    trace_2[i][:2] = runge_kutta(f, trace_2[i-1][2], trace_2[i-1][:2], h)\n",
    "    trace_2[i][2] = trace_2[i-1][2] + dt\n",
    "    # if trace_2[i][1] < 0: break\n",
    "\n",
    "plot_traject(trace_2[:, 0], trace_2[:, 0] ** 3, np.sqrt(trace_2[:, 1] ** 2 + (3 * trace_2[:, 0] ** 2 * trace_2[:,1]) ** 2))"
   ]
  },
  {
   "cell_type": "markdown",
   "metadata": {
    "ExecuteTime": {
     "end_time": "2019-11-03T11:09:32.452272Z",
     "start_time": "2019-11-03T11:09:32.445992Z"
    }
   },
   "source": [
    "### Antwoord\n",
    "De eerste figuur is voor de knikker die begint op $x=-10$. We zien dat deze een vrij lage beginsnelheid in de x-richting heeft, maar de de vorm van de curve is deze snelheid wel groot in de y-richting. Andersom zien we dat de tweede knikker die begint in $x=0$ een hoge snelheid in de x-richting heeft maar een lage snelheid in de y-richting.\n",
    "\n",
    "De benodigde snelheden kunnen worden geschat door een integraal te nemen over $y_0$ tot $y_1$ over de kracht $F=mg$. Hieruit kan dan de beginsnelheid in de x-richting worden afgeleid.\n",
    "\n",
    "De snelheden in de x-richting die we dna vinden zijn respectievelijk $w=0.467 m/s$ en $w=145 m/s$."
   ]
  },
  {
   "cell_type": "markdown",
   "metadata": {
    "ExecuteTime": {
     "end_time": "2019-11-03T11:09:32.457404Z",
     "start_time": "2019-11-03T11:09:32.454430Z"
    }
   },
   "source": [
    "## Energieplots"
   ]
  },
  {
   "cell_type": "code",
   "execution_count": 6,
   "metadata": {},
   "outputs": [
    {
     "data": {
      "image/png": "[encoded data removed]",
      "text/plain": [
       "<Figure size 252x189 with 2 Axes>"
      ]
     },
     "metadata": {
      "needs_background": "light"
     },
     "output_type": "display_data"
    }
   ],
   "source": [
    "E = lambda trc: 0.5 * (trc[:, 1] ** 2 + (3 * trc[:, 0] ** 2 * trc[:, 1]) ** 2) + g * trc[:, 0] ** 3\n",
    "\n",
    "fig, axs = plt.subplots(2, 1, sharex='col')\n",
    "\n",
    "energy = E(trace[:])\n",
    "energy2 = E(trace_2[:])\n",
    "\n",
    "axs[0].set_title(\"Energy of the two situations over position\\n\")\n",
    "\n",
    "axs[0].plot(trace[:, 0], energy)\n",
    "axs[1].plot(trace_2[:, 0], energy2)\n",
    "\n",
    "axs[0].set_ylabel('E/m [J/kg]')\n",
    "axs[1].set_ylabel('E/m [J/kg]')\n",
    "axs[1].set_xlabel('x [m]')\n",
    "plt.show()"
   ]
  },
  {
   "cell_type": "markdown",
   "metadata": {
    "ExecuteTime": {
     "end_time": "2019-12-19T15:27:57.442564Z",
     "start_time": "2019-12-19T15:27:57.438037Z"
    }
   },
   "source": [
    "### Antwoord\n",
    "We zien dat de constantheid van de energie erg afhangt van $w$. Wanneer $w$ klein is is de energie vrijwel geheel behouden, voor hoge waarden van $w$ niet. Dit heeft mogelijk te maken met dat de constraint ($y=x^3$) dan een grotere rol gaat spelen."
   ]
  },
  {
   "cell_type": "markdown",
   "metadata": {
    "ExecuteTime": {
     "end_time": "2019-11-03T11:09:32.457404Z",
     "start_time": "2019-11-03T11:09:32.454430Z"
    }
   },
   "source": [
    "## Energieverlies"
   ]
  },
  {
   "cell_type": "markdown",
   "metadata": {
    "ExecuteTime": {
     "end_time": "2019-12-19T15:27:30.832296Z",
     "start_time": "2019-12-19T15:27:30.819016Z"
    }
   },
   "source": [
    "Wat is de minimale stapgrootte waarmee je nog steeds redelijke oplossing krijgt? Kwantificeer dit door voor drie stapgroottes te onderzoeken wat het energieverlies voor beide situaties. "
   ]
  },
  {
   "cell_type": "code",
   "execution_count": 7,
   "metadata": {},
   "outputs": [
    {
     "data": {
      "image/png": "[encoded data removed]",
      "text/plain": [
       "<Figure size 252x189 with 2 Axes>"
      ]
     },
     "metadata": {
      "needs_background": "light"
     },
     "output_type": "display_data"
    },
    {
     "data": {
      "image/png": "[encoded data removed]",
      "text/plain": [
       "<Figure size 252x189 with 2 Axes>"
      ]
     },
     "metadata": {
      "needs_background": "light"
     },
     "output_type": "display_data"
    }
   ],
   "source": [
    "energy_loss = np.diff(energy)\n",
    "energy_loss2 = np.diff(energy2)\n",
    "\n",
    "fig, axs = plt.subplots(2, 1, sharex='col')\n",
    "\n",
    "axs[0].plot(trace[:-1, 2], energy_loss)\n",
    "axs[1].plot(trace_2[:-1, 2], energy_loss2)\n",
    "\n",
    "axs[0].set_ylabel('E/m [J/kg]')\n",
    "axs[1].set_ylabel('E/m [J/kg]')\n",
    "axs[1].set_xlabel('t [s]')\n",
    "plt.show()\n",
    "\n",
    "energy_loss_cum = np.cumsum(np.abs(np.diff(energy)))\n",
    "energy_loss_cum2 = np.cumsum(np.abs(np.diff(energy2)))\n",
    "\n",
    "fig, axs = plt.subplots(2, 1, sharex='col')\n",
    "\n",
    "axs[0].plot(trace[:-1, 2], energy_loss_cum)\n",
    "axs[1].plot(trace_2[:-1, 2], energy_loss_cum2)\n",
    "\n",
    "axs[0].set_ylabel('E/m [J/kg]')\n",
    "axs[1].set_ylabel('E/m [J/kg]')\n",
    "axs[1].set_xlabel('t [s]')\n",
    "plt.show()"
   ]
  },
  {
   "cell_type": "markdown",
   "metadata": {
    "ExecuteTime": {
     "end_time": "2019-12-19T15:27:57.442564Z",
     "start_time": "2019-12-19T15:27:57.438037Z"
    }
   },
   "source": [
    "### Antwoord\n",
    "Licht hier toe wat je ziet in de figuren, waarom dit relevant is en wat het doel is van deze plot."
   ]
  },
  {
   "cell_type": "markdown",
   "metadata": {
    "ExecuteTime": {
     "end_time": "2019-12-19T15:27:57.442564Z",
     "start_time": "2019-12-19T15:27:57.438037Z"
    }
   },
   "source": [
    "## Einde\n",
    "Dit is het einde van deze notebook, zorg ervoor dat je alle plots die je laat zien ook kwalitatief beschrijft. "
   ]
  },
  {
   "cell_type": "code",
   "execution_count": 10,
   "metadata": {},
   "outputs": [
    {
     "data": {
      "image/png": "[encoded data removed]",
      "text/plain": [
       "<Figure size 252x189 with 1 Axes>"
      ]
     },
     "metadata": {
      "needs_background": "light"
     },
     "output_type": "display_data"
    }
   ],
   "source": [
    "for h in [0.001, 0.00075, 0.0005]:\n",
    "    dt = h\n",
    "\n",
    "    steps = 100000\n",
    "\n",
    "    x_initial = 10\n",
    "    w_initial = 0\n",
    "\n",
    "    trace = np.zeros((steps, 3))\n",
    "    trace[0] = [\n",
    "        x_initial,\n",
    "        w_initial,\n",
    "        0\n",
    "    ] # x, w, t\n",
    "    for i in range(1, steps):\n",
    "        trace[i][:2] = runge_kutta(f, trace[i-1][2], trace[i-1][:2], h)\n",
    "        trace[i][2] = trace[i-1][2] + dt\n",
    "        \n",
    "    loss = np.cumsum(np.abs(np.diff(E(trace))))\n",
    "    \n",
    "    plt.plot(loss, label=f'$h={h}$')\n",
    "\n",
    "plt.legend()\n",
    "plt.title('Cum. energy loss for different values of h')\n",
    "plt.ylabel('Energy loss')\n",
    "plt.xlabel('Timestemps')\n",
    "plt.legend()\n",
    "plt.show()"
   ]
  },
  {
   "cell_type": "markdown",
   "metadata": {},
   "source": [
    "### Antwoord\n",
    "We zien dat hoe kleiner de waarde van $h$ dat de energie loss kleiner wordt. Dit is zoals verwacht. We hebben de andere simulaties gerund met een $h=0.0001$. Gezien hoe klein het energie verlies is voor $h=0.0005$, namelijk $<<1$, concludeer ik dat de simulaties hierboven vrij accuraat zijn. Ik kan niet geheel verklaren waar de plotselinge spike vandaan komt. Ik vermoed, mede omdat het na andere hoeveelheid tijdstappen gebeurt, dat het te maken heeft met een bepaald punt. Mogelijk de oorsprong?"
   ]
  },
  {
   "cell_type": "code",
   "execution_count": null,
   "metadata": {},
   "outputs": [],
   "source": []
  }
 ],
 "metadata": {
  "kernelspec": {
   "display_name": "Python 3",
   "language": "python",
   "name": "python3"
  },
  "language_info": {
   "codemirror_mode": {
    "name": "ipython",
    "version": 3
   },
   "file_extension": ".py",
   "mimetype": "text/x-python",
   "name": "python",
   "nbconvert_exporter": "python",
   "pygments_lexer": "ipython3",
   "version": "3.8.5"
  },
  "varInspector": {
   "cols": {
    "lenName": 16,
    "lenType": 16,
    "lenVar": 40
   },
   "kernels_config": {
    "python": {
     "delete_cmd_postfix": "",
     "delete_cmd_prefix": "del ",
     "library": "var_list.py",
     "varRefreshCmd": "print(var_dic_list())"
    },
    "r": {
     "delete_cmd_postfix": ") ",
     "delete_cmd_prefix": "rm(",
     "library": "var_list.r",
     "varRefreshCmd": "cat(var_dic_list()) "
    }
   },
   "types_to_exclude": [
    "module",
    "function",
    "builtin_function_or_method",
    "instance",
    "_Feature"
   ],
   "window_display": false
  }
 },
 "nbformat": 4,
 "nbformat_minor": 4
}
