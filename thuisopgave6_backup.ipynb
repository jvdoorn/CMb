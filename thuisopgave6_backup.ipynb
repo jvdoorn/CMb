{
 "cells": [
  {
   "cell_type": "markdown",
   "metadata": {
    "ExecuteTime": {
     "end_time": "2019-11-03T11:09:32.433911Z",
     "start_time": "2019-11-03T11:09:31.812730Z"
    }
   },
   "source": [
    "# Werkcollege Classical Mechanics b, serie 6 \n",
    "## Werkcollegeopgave\n",
    "\n",
    "We zullen een probleem bekijken waarvoor we de uiteindelijke differentiaalvergelijking numeriek gaan oplossen met behulp van een Py2thon routine.\n",
    "## 1.  Knikkerbaan.\n",
    "\n",
    "We zullen een probleem bekijken waarvoor we de uiteindelijke differentiaalvergelijking numeriek gaan oplossen met behulp van een Python routine.\n",
    "\n",
    "Beschouw een deeltje met massa $m$ dat van een knikkerbaan afglijdt. We nemen geen rolbeweging mee, dus het is effectief een puntmassa. De vorm van de knikkerbaan wordt beschreven door $y=x^3$.\n",
    "\n",
    "Schrijf de Langrangiaan op voor dit probleem, en laat zien dat de resulterende bewegingsvergelijking wordt beschreven door,\n",
    "$\n",
    "\\ddot{x}(1+9x^4) + 18 x^3 \\dot{x}^2 + 3 g x^2 = 0,\n",
    "$\n",
    "waar $g$ de valversnelling is.\n",
    "\n",
    "Dit is een differentiaalvergelijking die analytisch lastig is op te lossen, dus gaan we het numeriek doen. Daartoe gebruiken we de Runge-Kutta methode."
   ]
  },
  {
   "cell_type": "markdown",
   "metadata": {
    "ExecuteTime": {
     "end_time": "2019-11-03T11:09:32.433911Z",
     "start_time": "2019-11-03T11:09:31.812730Z"
    }
   },
   "source": [
    "## Runge-Kutta Methode\n",
    "\n",
    "Bij diffusie heb je al eens een differentiaalvergelijking numeriek geintegreerd. Je hebt als het goed is ook gezien dat je, door verschillende methoden te gebruiken, de fout ten opzichte van de werkelijke waarde kon verkleinen. In deze programmeeropgave ga je aan de slag met de Runge-Kutta methode om een Lagrangevergelijking numeriek te integreren.\n",
    "\n",
    "Eigenlijk bestaat er een hele familie van methoden met de naam Runge-Kutta methoden. De bekendste en meest gebruikte hiervan, die je hier ook gaat gebruiken, is de vierde orde Runge-Kutta methode. De Runge-Kutta methoden zijn allemaal gebaseerd op hetzelfde idee: een van de variabelen in de differentiaalvergelijking (vaak de tijd) wordt met een bepaalde stapgrootte opgehoogd, en vervolgens wordt afgeschat hoe de andere variabele verandert. Als we bijvoorbeeld een algemene (expliciete) eerste orde gewone differentiaalvergelijking met beginvoorwaarden nemen:\n",
    "\n",
    "\\begin{equation}\n",
    "\t\\frac{dy}{dx} = f \\left( x, y \\right), y \\left( x_0 \\right) = y_0\n",
    "    \\label{general_1}\n",
    "\\end{equation}\n",
    "\n",
    "Instinctief zou je de waarde $\\frac{dy}{dx} = f \\left( x_0, y_0 \\right)$ vermenigvuldigen met een stapgrootte $h$, die bij $y_0$ optellen, en ook $x_0$ met $h$ ophogen. Dit staat bekend als de Eulermethode, en is ook de Runge-Kutta methode van de eerste orde. Wiskundig uitgedrukt:\n",
    "\n",
    "\\begin{equation}\n",
    "y_1 = y_0 + hf \\left( x_0, y_0 \\right), x_1 = x_0 + h\n",
    "\\end{equation}\n",
    "\n",
    "Of voor een algemene stap:\n",
    "\n",
    "\\begin{equation}\n",
    "y_{n+1} = y_n + hf \\left( x_n, y_n \\right), x_{n+1} = x_n + h\n",
    "\\end{equation}\n",
    "\n",
    "Dit algoritme heeft echter nog een vrij grote fout. Daarom worden Runge-Kutta methoden van hogere ordes gebruikt. De methode van de vierde orde is als volgt:\n",
    "\n",
    "\\begin{equation}\n",
    "y_{n+1} = y_n + \\frac{h}{6} \\left( k_1 + 2k_2 + 2k_3 + k_4 \\right), x_{n+1} = x_n + h\n",
    "\\end{equation}\n",
    "\n",
    "Waarbij de getallen $k_i$ gegeven worden door:\n",
    "\n",
    "\\begin{equation}\n",
    "k_1 = f \\left(x_n, y_n \\right)\n",
    "\\end{equation}\n",
    "\n",
    "\n",
    "\\begin{equation}\n",
    "k_2 = f \\left(x_n + \\frac{h}{2}, y_n + \\frac{h}{2}k_1 \\right)\n",
    "\\end{equation}\n",
    "\n",
    "\n",
    "\\begin{equation}\n",
    "k_3 = f \\left(x_n + \\frac{h}{2}, y_n + \\frac{h}{2}k_2 \\right)\n",
    "\\end{equation}\n",
    "\n",
    "\n",
    "\\begin{equation}\n",
    "k_4 = f \\left(x_n + h, y_n + hk_3 \\right)\n",
    "\\end{equation}\n",
    "\n",
    "De algemene structuur hiervan is dat het gewogen gemiddelde wordt genomen van een aantal steeds verder verfijnde hellingen. De eerste term is zoals in de methode van Euler. Daarna wordt de helling bepaald op de helft van de stap, waarbij de zojuist berekende stap wordt gebruikt. Dan wordt dat weer gedaan, nu met de tweede waarde, en als laatste wordt de helling aan het einde van de stap berekend. De afleiding van dit algoritme zal hier niet worden gegeven, maar kan algemeen gevonden worden in het artikel \\textit{Coefficients for the Study of Runge-Kutta Integration Processes} van J. C. Butcher (1963, Journal of the Australian Mathematical Society, Vol. 3). Dit is echter een vrij zwaar artikel, en de Engelse wikipediapagina van Runge-Kutta methods geeft een relatief simpele afleiding voor de vierde orde. \n",
    "\n",
    "Een klein probleem met de Runge-Kutta methode is dat hij alleen bruikbaar is voor eerstegraads gewone differentiaalvergelijkingen. Aangezien de Lagrangevergelijking in het algemeen een tweede orde partiele differentiaalvergelijking is, moeten er nog wat trucjes toegepast worden. Zo kan een hogere orde differentiaalvergelijking altijd worden geschreven als een stelsel van evenveel eerstegraads differentiaalvergelijkingen van de eerste orde. Aangezien de algemene uitdrukking van een eerstegraads differentiaalvergelijking zowel met scalairen als met vectoren kan werken, is dit geen probleem. In het algemeen ziet dat er als volgt uit:\n",
    "\n",
    "\\begin{equation}\n",
    "\\dot{\\vec{y}} = \\vec{f} \\left(t, \\vec{y} \\right)\n",
    "\\end{equation}\n",
    "\n",
    "Met daarin, voor $\\vec{y}$ tweedimensionaal: \n",
    "\n",
    "\\begin{equation}\n",
    "\\vec{y} = \\begin{pmatrix} y_1 \\\\ y_2 \\end{pmatrix}, \\vec{f} = \\begin{pmatrix} f_1 \\left( t, \\vec{y} \\right) \\\\ f_2 \\left( t, \\vec{y} \\right) \\end{pmatrix}\n",
    "\\end{equation}\n",
    "\n",
    "Nu is het nog een kwestie van handige definities kiezen. Als je de Lagrangevergelijking wilt integreren kan je, als de potentiaal niet van de snelheid afhangt, de volgende aanvullende vergelijking gebruiken:\n",
    "\n",
    "\\begin{equation}\n",
    "\\dot{x} = w\n",
    "\\end{equation}\n",
    "\n",
    "Aangezien nu ook geldt dat $\\ddot{x} = \\dot{w}$, reduceert de Lagrangevergelijking tot een eerstegraads differentiaalvergelijking in twee variabelen. Nu lopen we ook gelijk tegen partiele differentiaalvergelijkingen aan. Dit hoeft echter geen probleem te zijn: zoals we net zagen, kan de variabele $y$ ook een vector zijn. De verschillende variabelen kunnen nu in die vector gezet worden, en de Lagrangevergelijkingen moeten zo omgeschreven worden dat ze in de vorm staan van de algemene ODE vergelijking. De vergelijkingen zo omschrijven kan nog een uitdaging zijn."
   ]
  },
  {
   "cell_type": "markdown",
   "metadata": {
    "ExecuteTime": {
     "end_time": "2019-11-03T11:09:32.433911Z",
     "start_time": "2019-11-03T11:09:31.812730Z"
    }
   },
   "source": [
    "# Thuisopgave\n",
    "Vorm met een medestudent een tweetal en lever gezamenlijk ingevuld deze notebook in.\n",
    "## De opdracht  \n",
    "Schrijf een Python routine om het bovenstaande probleem van de beweging van een proton in een inhomogeen magneetveld numeriek op te lossen. Deze notebook bevat alvast twee functies die je kunt gebruiken:\n",
    "- `runga_kutta(f, t, y, h)` is een voorgeprogrammeerdere Runga Kutta integrator. \n",
    "- `plot_traject(x, y, v)` is een routine die een figuur creëert. \n",
    "deze kun je gebruiken voor het toepassen van de Runge-Kutta methode.  \n",
    "In verdere cellen staat de opdracht verder uitgewerkt, zorg ervoor dat je alle vragen beantwoordt."
   ]
  },
  {
   "cell_type": "code",
   "execution_count": 1,
   "metadata": {
    "ExecuteTime": {
     "end_time": "2019-12-19T15:17:56.908697Z",
     "start_time": "2019-12-19T15:17:56.637954Z"
    }
   },
   "outputs": [],
   "source": [
    "import numpy as np\n",
    "from matplotlib import pyplot as plt\n",
    "from scipy.constants import g\n",
    "%matplotlib inline"
   ]
  },
  {
   "cell_type": "code",
   "execution_count": 2,
   "metadata": {
    "ExecuteTime": {
     "end_time": "2019-12-19T15:17:57.364068Z",
     "start_time": "2019-12-19T15:17:57.356105Z"
    }
   },
   "outputs": [],
   "source": [
    "# voor de differentiaalvergelijking ydot = f(t, y) (zie vergelijking 9 in de opdracht),\n",
    "# geef de volgende waarde van y voor gegeven y en t,\n",
    "# gebruik makend van de vierde orde Runge-Kutta methode met stapgrootte h\n",
    "def runge_kutta(f, t, y, h):\n",
    "    k1 = f(t, y)\n",
    "    k2 = f(t + h / 2.0, y + h * k1 / 2.0)\n",
    "    k3 = f(t + h / 2.0, y + h * k2 / 2.0)\n",
    "    k4 = f(t + h, y + h * k3)\n",
    "    return y + h * (k1 + 2.0 * k2 + 2.0 * k3 + k4) / 6.0"
   ]
  },
  {
   "cell_type": "code",
   "execution_count": 6,
   "metadata": {
    "ExecuteTime": {
     "end_time": "2019-12-19T15:17:58.899407Z",
     "start_time": "2019-12-19T15:17:58.891957Z"
    }
   },
   "outputs": [],
   "source": [
    "# plot het traject van de knikker en geef op elk punt (x, y) de snelheid weer door de kleur te varieren met een gradient\n",
    "def plot_traject(x, y, snelheid, x_direction=False):\n",
    "    f, ax = plt.subplots()\n",
    "    \n",
    "    # gebruik de volgende gradient: blauw -> geel -> rood\n",
    "    cm = plt.cm.get_cmap('RdYlBu_r')    \n",
    "    col = ax.scatter(x, y, c = snelheid, cmap = cm, lw = 0.0, marker=\".\")\n",
    "\n",
    "    ax.set_xlabel('x (m)')\n",
    "    ax.set_ylabel('y (m)')\n",
    "    \n",
    "    # laat een balk zien die de gradient weergeeft\n",
    "    cbaxes = f.add_axes([0.85, 0.1, 0.03, 0.8])\n",
    "    plt.colorbar(col, cax = cbaxes, label = 'Snelheid (m/s)' if not x_direction else 'Snelheid-x (m/s)')\n",
    "    plt.subplots_adjust(bottom = 0.1, top = 0.9, left = 0.1, right = 0.77)\n",
    "\n",
    "    ax.set_title('Traject van knikker over de baan')\n",
    "    plt.show()"
   ]
  },
  {
   "cell_type": "markdown",
   "metadata": {
    "ExecuteTime": {
     "end_time": "2019-11-03T11:09:32.452272Z",
     "start_time": "2019-11-03T11:09:32.445992Z"
    }
   },
   "source": [
    "# Bewegingsplots\n",
    "Schrijf hier onder een Python routine om het bovenstaande probleem van de beweging op de knikkerbaan op te lossen. Onderzoek in ieder geval de volgende situaties:\n",
    "* Hoe snel moet het deeltje gaan om van $x=-10$ tot stilstand te komen in de oorsprong?\n",
    "* Hoe snel moet een deeltje vanuit de oorsprong gaan om tot $y=10$ te komen"
   ]
  },
  {
   "cell_type": "code",
   "execution_count": 34,
   "metadata": {
    "ExecuteTime": {
     "end_time": "2019-11-03T11:09:32.452272Z",
     "start_time": "2019-11-03T11:09:32.445992Z"
    }
   },
   "outputs": [
    {
     "data": {
      "text/plain": "<Figure size 432x288 with 2 Axes>",
      "image/png": "[encoded data removed]"
     },
     "metadata": {
      "needs_background": "light"
     },
     "output_type": "display_data"
    },
    {
     "data": {
      "text/plain": "<Figure size 432x288 with 2 Axes>",
      "image/png": "[encoded data removed]"
     },
     "metadata": {
      "needs_background": "light"
     },
     "output_type": "display_data"
    }
   ],
   "source": [
    "def f(t, vec):\n",
    "    return np.array([\n",
    "        vec[1],\n",
    "        -(18 * vec[0] ** 3 * vec[1] ** 2 + 3 * g * vec[0] ** 2) / (1 + 9 * vec[0] ** 4)\n",
    "    ])\n",
    "\n",
    "h = 0.001\n",
    "dt = 1\n",
    "\n",
    "steps = 20000\n",
    "\n",
    "x_initial = 10.\n",
    "w_initial = 0.\n",
    "\n",
    "trace = np.zeros((steps, 3))\n",
    "trace[0] = [\n",
    "    x_initial,\n",
    "    w_initial,\n",
    "    0\n",
    "] # x, w, t\n",
    "for i in range(1, steps):\n",
    "    trace[i][:2] = runge_kutta(f, trace[i-1][2], trace[i-1][:2], h)\n",
    "    trace[i][2] = trace[i-1][2] + dt\n",
    "\n",
    "plot_traject(trace[:, 0], trace[:, 0] ** 3, np.sqrt(trace[:, 1] ** 2 + (3 * trace[:, 0] ** 2 * trace[:,1]) ** 2), x_direction=True)\n",
    "plot_traject(trace[:, 0], trace[:, 0] ** 3, np.abs(trace[:, 1]), x_direction=True)"
   ]
  },
  {
   "cell_type": "markdown",
   "metadata": {
    "ExecuteTime": {
     "end_time": "2019-11-03T11:09:32.452272Z",
     "start_time": "2019-11-03T11:09:32.445992Z"
    }
   },
   "source": [
    "### Antwoord\n",
    "Licht hier toe wat je ziet in de figuren, waarom dit relevant is en wat het doel is van deze plot."
   ]
  },
  {
   "cell_type": "markdown",
   "metadata": {
    "ExecuteTime": {
     "end_time": "2019-11-03T11:09:32.457404Z",
     "start_time": "2019-11-03T11:09:32.454430Z"
    }
   },
   "source": [
    "## Energieplots"
   ]
  },
  {
   "cell_type": "markdown",
   "metadata": {
    "ExecuteTime": {
     "end_time": "2019-12-19T15:27:30.832296Z",
     "start_time": "2019-12-19T15:27:30.819016Z"
    }
   },
   "source": [
    "Plot de energie in het systeem als functie van de tijd, voor in ieder geval beide van de bovenstaande situaties. "
   ]
  },
  {
   "cell_type": "code",
   "execution_count": null,
   "metadata": {},
   "outputs": [],
   "source": [
    "# Schrijf hier de code die je gebruikt om het derde deelprobleem op te lossen"
   ]
  },
  {
   "cell_type": "markdown",
   "metadata": {
    "ExecuteTime": {
     "end_time": "2019-12-19T15:27:57.442564Z",
     "start_time": "2019-12-19T15:27:57.438037Z"
    }
   },
   "source": [
    "### Antwoord\n",
    "Licht hier toe wat je ziet in de figuren, waarom dit relevant is en wat het doel is van deze plot."
   ]
  },
  {
   "cell_type": "markdown",
   "metadata": {
    "ExecuteTime": {
     "end_time": "2019-11-03T11:09:32.457404Z",
     "start_time": "2019-11-03T11:09:32.454430Z"
    }
   },
   "source": [
    "## Energieverlies"
   ]
  },
  {
   "cell_type": "markdown",
   "metadata": {
    "ExecuteTime": {
     "end_time": "2019-12-19T15:27:30.832296Z",
     "start_time": "2019-12-19T15:27:30.819016Z"
    }
   },
   "source": [
    "Wat is de minimale stapgrootte waarmee je nog steeds redelijke oplossing krijgt? Kwantificeer dit door voor drie stapgroottes te onderzoeken wat het energieverlies voor beide situaties. "
   ]
  },
  {
   "cell_type": "code",
   "execution_count": null,
   "metadata": {},
   "outputs": [],
   "source": [
    "# Schrijf hier de code die je gebruikt om het derde deelprobleem op te lossen"
   ]
  },
  {
   "cell_type": "markdown",
   "metadata": {
    "ExecuteTime": {
     "end_time": "2019-12-19T15:27:57.442564Z",
     "start_time": "2019-12-19T15:27:57.438037Z"
    }
   },
   "source": [
    "### Antwoord\n",
    "Licht hier toe wat je ziet in de figuren, waarom dit relevant is en wat het doel is van deze plot."
   ]
  },
  {
   "cell_type": "markdown",
   "metadata": {
    "ExecuteTime": {
     "end_time": "2019-12-19T15:27:57.442564Z",
     "start_time": "2019-12-19T15:27:57.438037Z"
    }
   },
   "source": [
    "## Einde\n",
    "Dit is het einde van deze notebook, zorg ervoor dat je alle plots die je laat zien ook kwalitatief beschrijft. "
   ]
  },
  {
   "cell_type": "code",
   "execution_count": null,
   "metadata": {},
   "outputs": [],
   "source": []
  }
 ],
 "metadata": {
  "kernelspec": {
   "display_name": "Python 3",
   "language": "python",
   "name": "python3"
  },
  "language_info": {
   "codemirror_mode": {
    "name": "ipython",
    "version": 3
   },
   "file_extension": ".py",
   "mimetype": "text/x-python",
   "name": "python",
   "nbconvert_exporter": "python",
   "pygments_lexer": "ipython3",
   "version": "3.8.3"
  },
  "varInspector": {
   "cols": {
    "lenName": 16,
    "lenType": 16,
    "lenVar": 40
   },
   "kernels_config": {
    "python": {
     "delete_cmd_postfix": "",
     "delete_cmd_prefix": "del ",
     "library": "var_list.py",
     "varRefreshCmd": "print(var_dic_list())"
    },
    "r": {
     "delete_cmd_postfix": ") ",
     "delete_cmd_prefix": "rm(",
     "library": "var_list.r",
     "varRefreshCmd": "cat(var_dic_list()) "
    }
   },
   "types_to_exclude": [
    "module",
    "function",
    "builtin_function_or_method",
    "instance",
    "_Feature"
   ],
   "window_display": false
  }
 },
 "nbformat": 4,
 "nbformat_minor": 4
}